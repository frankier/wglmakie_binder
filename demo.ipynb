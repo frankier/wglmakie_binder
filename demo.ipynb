{
 "cells": [
  {
   "cell_type": "code",
   "execution_count": null,
   "id": "7abd9e2d",
   "metadata": {},
   "outputs": [],
   "source": [
    "using Makie\n",
    "using WGLMakie\n",
    "using JSServe"
   ]
  },
  {
   "cell_type": "code",
   "execution_count": null,
   "id": "d336270e",
   "metadata": {},
   "outputs": [],
   "source": [
    "port = 7576\n",
    "\n",
    "function setup_jsserve(proxy_base, port)\n",
    "    JSServe.configure_server!(;listen_port = port, external_url = \"$(proxy_base)/$(port)\")\n",
    "end\n",
    "\n",
    "if \"BINDER_SERVICE_HOST\" in keys(ENV)\n",
    "    url_snippet = js\"\"\"\n",
    "    (function() {\n",
    "        var loc = new URL(location);\n",
    "        var bits = loc.pathname.split(\"/\");\n",
    "        loc.pathname = bits.slice(0, bits.indexOf(\"user\") + 2).join(\"/\") + \"/proxy\"\n",
    "        return loc.href\n",
    "    })()\"\"\"\n",
    "else\n",
    "    url_snippet = js\"\"\"new URL(\"/proxy\", location.href).href\"\"\"\n",
    "end\n",
    "script = js\"\"\"\n",
    "document.getElementById(\"paste_instructions\").innerHTML = \n",
    "    \"In the next cell paste the following:<br><pre>setup_jsserve(\\\\\"\" +\n",
    "    $(url_snippet) +\n",
    "    \"\\\\\", $(port))\" \"\"\"\n",
    "JSServe.jsrender(Session(), DOM.div(id=\"paste_instructions\", script))"
   ]
  },
  {
   "cell_type": "code",
   "execution_count": null,
   "id": "d1b3f0ba",
   "metadata": {},
   "outputs": [],
   "source": [
    "# Paste here"
   ]
  },
  {
   "cell_type": "code",
   "execution_count": null,
   "id": "caec190b",
   "metadata": {},
   "outputs": [],
   "source": [
    "fig = Figure()\n",
    "\n",
    "ax = Axis(fig[1, 1])\n",
    "\n",
    "toggles = [Toggle(fig, active = active) for active in [true, false]]\n",
    "labels = [Label(fig, lift(x -> x ? \"$l visible\" : \"$l invisible\", t.active))\n",
    "    for (t, l) in zip(toggles, [\"sine\", \"cosine\"])]\n",
    "\n",
    "fig[1, 2] = grid!(hcat(toggles, labels), tellheight = false)\n",
    "\n",
    "line1 = lines!(0..10, sin, color = :blue, visible = false)\n",
    "line2 = lines!(0..10, cos, color = :red)\n",
    "\n",
    "connect!(line1.visible, toggles[1].active)\n",
    "connect!(line2.visible, toggles[2].active)\n",
    "\n",
    "fig"
   ]
  }
 ],
 "metadata": {
  "kernelspec": {
   "display_name": "Julia 1.8 1.8.2",
   "language": "julia",
   "name": "julia-1.8-1.8"
  },
  "language_info": {
   "file_extension": ".jl",
   "mimetype": "application/julia",
   "name": "julia",
   "version": "1.8.2"
  }
 },
 "nbformat": 4,
 "nbformat_minor": 5
}
