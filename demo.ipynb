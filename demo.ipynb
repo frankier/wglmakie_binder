{
 "cells": [
  {
   "cell_type": "code",
   "execution_count": 7,
   "id": "7abd9e2d",
   "metadata": {},
   "outputs": [],
   "source": [
    "using Makie\n",
    "using WGLMakie\n",
    "using JSServe"
   ]
  },
  {
   "cell_type": "code",
   "execution_count": 8,
   "id": "9fe585ee",
   "metadata": {},
   "outputs": [],
   "source": [
    "WGLMakie.activate!()"
   ]
  },
  {
   "cell_type": "code",
   "execution_count": 9,
   "id": "1d549a50",
   "metadata": {},
   "outputs": [
    {
     "data": {
      "text/html": [
       "<div id=\"application-dom\" data-jscall-id=\"27\">\n",
       "  <div data-jscall-id=\"25\">\n",
       "    <script data-jscall-id=\"19\" type=\"text/javascript\">\n",
       "    window.__define = window.define;\n",
       "    window.__require = window.require;\n",
       "    window.define = undefined;\n",
       "    window.require = undefined;\n",
       "\n",
       "</script>\n",
       "    <script data-jscall-id=\"20\" src=\"http://localhost:8888/proxy/9284/assetserver/4afe84fe87e4ebcd72ef578f336660ff49607b02-msgpack.min.js\"></script>\n",
       "    <script data-jscall-id=\"21\" src=\"http://localhost:8888/proxy/9284/assetserver/69951c86912e2913e8100a382f219fd874632ac0-pako_inflate.min.js\"></script>\n",
       "    <script data-jscall-id=\"22\" src=\"http://localhost:8888/proxy/9284/assetserver/e1941899d95def0df5def3f3b8e5965b818d1beb-Base64.js\"></script>\n",
       "    <script data-jscall-id=\"23\" src=\"http://localhost:8888/proxy/9284/assetserver/b7018966f669fa7181ac16dc684e85865dbb2570-JSServe.js\"></script>\n",
       "    <script data-jscall-id=\"24\" type=\"text/javascript\">\n",
       "    window.define = window.__define;\n",
       "    window.require = window.__require;\n",
       "    window.__define = undefined;\n",
       "    window.__require = undefined;\n",
       "\n",
       "</script>\n",
       "    <script data-jscall-id=\"26\" type=\"text/javascript\">\n",
       "    const proxy_url = 'http://localhost:8888/proxy/9284'\n",
       "    const session_id = '5641d9df-e0f8-42e1-9b3e-c1e032d6c4f0'\n",
       "    // track if our child session doms get removed from the document (dom)\n",
       "    JSServe.track_deleted_sessions('13587198968144252843')\n",
       "    JSServe.setup_connection({proxy_url, session_id})\n",
       "    JSServe.sent_done_loading()\n",
       "\n",
       "</script>\n",
       "  </div>\n",
       "</div>\n"
      ],
      "text/plain": [
       "Page(Session(Base.RefValue{Union{Nothing, WebSockets.WebSocket, IOBuffer}}(nothing), Dict{String, Tuple{Bool, Observable}}(), Dict{Symbol, Any}[], Set{JSServe.Asset}(), JSServe.JSCode[], \"5641d9df-e0f8-42e1-9b3e-c1e032d6c4f0\", Channel{Bool}(1), JSServe.init_session, JSServe.UrlSerializer(true, nothing, true, \"http://localhost:8888/proxy/9284\", false), Base.RefValue{Union{Nothing, JSServe.JSException}}(nothing), Observable{Union{Nothing, Dict{String, Any}}}(nothing), Observable(false), Observables.ObserverFunction[], Dict{String, WeakRef}()), Dict{String, Session}(), false, false)"
      ]
     },
     "execution_count": 9,
     "metadata": {},
     "output_type": "execute_result"
    }
   ],
   "source": [
    "Page(external_url=\"http://localhost:8888/proxy/9284\")"
   ]
  },
  {
   "cell_type": "code",
   "execution_count": 10,
   "id": "748c9dce",
   "metadata": {},
   "outputs": [
    {
     "data": {},
     "execution_count": 10,
     "metadata": {},
     "output_type": "execute_result"
    },
    {
     "name": "stderr",
     "output_type": "stream",
     "text": [
      "┌ Warning: Waiting for page sessions to load.\n",
      "│                 This can happen for the first cells to run, or is indicative of faulty state\n",
      "└ @ JSServe /home/frankier/.julia/packages/JSServe/kIK9q/src/display.jl:162\n"
     ]
    }
   ],
   "source": [
    "# Taken from https://docs.makie.org/stable/examples/blocks/toggle/\n",
    "\n",
    "fig = Figure()\n",
    "\n",
    "ax = Axis(fig[1, 1])\n",
    "\n",
    "toggles = [Toggle(fig, active = active) for active in [true, false]]\n",
    "labels = [Label(fig, lift(x -> x ? \"$l visible\" : \"$l invisible\", t.active))\n",
    "    for (t, l) in zip(toggles, [\"sine\", \"cosine\"])]\n",
    "\n",
    "fig[1, 2] = grid!(hcat(toggles, labels), tellheight = false)\n",
    "\n",
    "line1 = lines!(0..10, sin, color = :blue, visible = false)\n",
    "line2 = lines!(0..10, cos, color = :red)\n",
    "\n",
    "connect!(line1.visible, toggles[1].active)\n",
    "connect!(line2.visible, toggles[2].active)\n",
    "\n",
    "fig"
   ]
  },
  {
   "cell_type": "code",
   "execution_count": null,
   "id": "b04ef2a3",
   "metadata": {},
   "outputs": [],
   "source": []
  }
 ],
 "metadata": {
  "kernelspec": {
   "display_name": "Julia 1.7.2",
   "language": "julia",
   "name": "julia-1.7"
  },
  "language_info": {
   "file_extension": ".jl",
   "mimetype": "application/julia",
   "name": "julia",
   "version": "1.7.2"
  }
 },
 "nbformat": 4,
 "nbformat_minor": 5
}
